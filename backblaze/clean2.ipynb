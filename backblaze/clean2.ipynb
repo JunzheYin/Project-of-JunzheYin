{
 "cells": [
  {
   "cell_type": "code",
   "execution_count": 1,
   "metadata": {},
   "outputs": [],
   "source": [
    "import os\n",
    "import glob\n",
    "import pandas as pd\n",
    "#os.chdir(\"s3://bigdata-group3//df2018Q2\")"
   ]
  },
  {
   "cell_type": "code",
   "execution_count": 2,
   "metadata": {},
   "outputs": [],
   "source": [
    "# Start SparkSession\n",
    "import findspark\n",
    "findspark.init()\n",
    "from pyspark.sql import SparkSession\n",
    "spark = SparkSession.builder.appName(\"group3_project\").getOrCreate()"
   ]
  },
  {
   "cell_type": "code",
   "execution_count": 3,
   "metadata": {},
   "outputs": [],
   "source": [
    "# Start Spark Context\n",
    "from pyspark import SparkContext, SparkConf\n",
    "sc = spark.sparkContext"
   ]
  },
  {
   "cell_type": "code",
   "execution_count": 4,
   "metadata": {},
   "outputs": [
    {
     "data": {
      "text/html": [
       "\n",
       "            <div>\n",
       "                <p><b>SparkSession - in-memory</b></p>\n",
       "                \n",
       "        <div>\n",
       "            <p><b>SparkContext</b></p>\n",
       "\n",
       "            <p><a href=\"http://ip-172-31-36-247.ec2.internal:4040\">Spark UI</a></p>\n",
       "\n",
       "            <dl>\n",
       "              <dt>Version</dt>\n",
       "                <dd><code>v2.4.4</code></dd>\n",
       "              <dt>Master</dt>\n",
       "                <dd><code>yarn</code></dd>\n",
       "              <dt>AppName</dt>\n",
       "                <dd><code>group3_project</code></dd>\n",
       "            </dl>\n",
       "        </div>\n",
       "        \n",
       "            </div>\n",
       "        "
      ],
      "text/plain": [
       "<pyspark.sql.session.SparkSession at 0x7f8727140490>"
      ]
     },
     "execution_count": 4,
     "metadata": {},
     "output_type": "execute_result"
    }
   ],
   "source": [
    "spark"
   ]
  },
  {
   "cell_type": "code",
   "execution_count": 5,
   "metadata": {},
   "outputs": [
    {
     "data": {
      "text/html": [
       "\n",
       "        <div>\n",
       "            <p><b>SparkContext</b></p>\n",
       "\n",
       "            <p><a href=\"http://ip-172-31-36-247.ec2.internal:4040\">Spark UI</a></p>\n",
       "\n",
       "            <dl>\n",
       "              <dt>Version</dt>\n",
       "                <dd><code>v2.4.4</code></dd>\n",
       "              <dt>Master</dt>\n",
       "                <dd><code>yarn</code></dd>\n",
       "              <dt>AppName</dt>\n",
       "                <dd><code>group3_project</code></dd>\n",
       "            </dl>\n",
       "        </div>\n",
       "        "
      ],
      "text/plain": [
       "<SparkContext master=yarn appName=group3_project>"
      ]
     },
     "execution_count": 5,
     "metadata": {},
     "output_type": "execute_result"
    }
   ],
   "source": [
    "sc"
   ]
  },
  {
   "cell_type": "code",
   "execution_count": 6,
   "metadata": {},
   "outputs": [],
   "source": [
    "from pyspark.ml.classification import LogisticRegression\n",
    "from pyspark.mllib.evaluation import BinaryClassificationMetrics\n",
    "from pyspark.sql.functions import isnull, when, count, col\n",
    "from pyspark.sql.functions import UserDefinedFunction\n",
    "from pyspark.ml import Pipeline\n",
    "from pyspark.ml.feature import OneHotEncoder, StringIndexer, VectorIndexer,IndexToString, VectorAssembler\n",
    "from pyspark.sql.types import *\n",
    "from pyspark.sql.functions import *\n",
    "from pyspark.sql import functions"
   ]
  },
  {
   "cell_type": "code",
   "execution_count": 10,
   "metadata": {},
   "outputs": [],
   "source": [
    "df = spark.read\\\n",
    "  .format('parquet')\\\n",
    "  .option('header', 'true')\\\n",
    "  .option('inferSchema', 'true')\\\n",
    "  .load('s3://bigdata-group3/mergedata/hardrive.parquet/*.parquet')"
   ]
  },
  {
   "cell_type": "code",
   "execution_count": 11,
   "metadata": {},
   "outputs": [
    {
     "data": {
      "text/plain": [
       "76714860"
      ]
     },
     "execution_count": 11,
     "metadata": {},
     "output_type": "execute_result"
    }
   ],
   "source": [
    "df.count()"
   ]
  },
  {
   "cell_type": "code",
   "execution_count": 8,
   "metadata": {},
   "outputs": [],
   "source": [
    "mydf = spark.read.parquet('s3://bigdata-group3/mergedata/hardrive.parquet/*.parquet')"
   ]
  },
  {
   "cell_type": "code",
   "execution_count": 12,
   "metadata": {},
   "outputs": [
    {
     "data": {
      "text/plain": [
       "76714860"
      ]
     },
     "execution_count": 12,
     "metadata": {},
     "output_type": "execute_result"
    }
   ],
   "source": [
    "mydf.count()"
   ]
  },
  {
   "cell_type": "code",
   "execution_count": 9,
   "metadata": {},
   "outputs": [
    {
     "name": "stdout",
     "output_type": "stream",
     "text": [
      "root\n",
      " |-- date: timestamp (nullable = true)\n",
      " |-- serial_number: string (nullable = true)\n",
      " |-- model: string (nullable = true)\n",
      " |-- capacity_bytes: long (nullable = true)\n",
      " |-- failure: integer (nullable = true)\n",
      " |-- smart_1_normalized: double (nullable = true)\n",
      " |-- smart_1_raw: double (nullable = true)\n",
      " |-- smart_2_normalized: double (nullable = true)\n",
      " |-- smart_2_raw: double (nullable = true)\n",
      " |-- smart_3_normalized: double (nullable = true)\n",
      " |-- smart_3_raw: double (nullable = true)\n",
      " |-- smart_4_normalized: double (nullable = true)\n",
      " |-- smart_4_raw: double (nullable = true)\n",
      " |-- smart_5_normalized: double (nullable = true)\n",
      " |-- smart_5_raw: double (nullable = true)\n",
      " |-- smart_7_normalized: double (nullable = true)\n",
      " |-- smart_7_raw: double (nullable = true)\n",
      " |-- smart_8_normalized: double (nullable = true)\n",
      " |-- smart_8_raw: double (nullable = true)\n",
      " |-- smart_9_normalized: double (nullable = true)\n",
      " |-- smart_9_raw: double (nullable = true)\n",
      " |-- smart_10_normalized: double (nullable = true)\n",
      " |-- smart_10_raw: double (nullable = true)\n",
      " |-- smart_11_normalized: double (nullable = true)\n",
      " |-- smart_11_raw: double (nullable = true)\n",
      " |-- smart_12_normalized: double (nullable = true)\n",
      " |-- smart_12_raw: double (nullable = true)\n",
      " |-- smart_13_normalized: string (nullable = true)\n",
      " |-- smart_13_raw: string (nullable = true)\n",
      " |-- smart_15_normalized: string (nullable = true)\n",
      " |-- smart_15_raw: string (nullable = true)\n",
      " |-- smart_22_normalized: double (nullable = true)\n",
      " |-- smart_22_raw: double (nullable = true)\n",
      " |-- smart_177_normalized: double (nullable = true)\n",
      " |-- smart_177_raw: double (nullable = true)\n",
      " |-- smart_179_normalized: double (nullable = true)\n",
      " |-- smart_179_raw: double (nullable = true)\n",
      " |-- smart_181_normalized: double (nullable = true)\n",
      " |-- smart_181_raw: double (nullable = true)\n",
      " |-- smart_182_normalized: double (nullable = true)\n",
      " |-- smart_182_raw: double (nullable = true)\n",
      " |-- smart_183_normalized: double (nullable = true)\n",
      " |-- smart_183_raw: double (nullable = true)\n",
      " |-- smart_184_normalized: double (nullable = true)\n",
      " |-- smart_184_raw: double (nullable = true)\n",
      " |-- smart_187_normalized: double (nullable = true)\n",
      " |-- smart_187_raw: double (nullable = true)\n",
      " |-- smart_188_normalized: double (nullable = true)\n",
      " |-- smart_188_raw: double (nullable = true)\n",
      " |-- smart_189_normalized: double (nullable = true)\n",
      " |-- smart_189_raw: double (nullable = true)\n",
      " |-- smart_190_normalized: double (nullable = true)\n",
      " |-- smart_190_raw: double (nullable = true)\n",
      " |-- smart_191_normalized: double (nullable = true)\n",
      " |-- smart_191_raw: double (nullable = true)\n",
      " |-- smart_192_normalized: double (nullable = true)\n",
      " |-- smart_192_raw: double (nullable = true)\n",
      " |-- smart_193_normalized: double (nullable = true)\n",
      " |-- smart_193_raw: double (nullable = true)\n",
      " |-- smart_194_normalized: double (nullable = true)\n",
      " |-- smart_194_raw: double (nullable = true)\n",
      " |-- smart_195_normalized: double (nullable = true)\n",
      " |-- smart_195_raw: double (nullable = true)\n",
      " |-- smart_196_normalized: double (nullable = true)\n",
      " |-- smart_196_raw: double (nullable = true)\n",
      " |-- smart_197_normalized: double (nullable = true)\n",
      " |-- smart_197_raw: double (nullable = true)\n",
      " |-- smart_198_normalized: double (nullable = true)\n",
      " |-- smart_198_raw: double (nullable = true)\n",
      " |-- smart_199_normalized: double (nullable = true)\n",
      " |-- smart_199_raw: double (nullable = true)\n",
      " |-- smart_200_normalized: double (nullable = true)\n",
      " |-- smart_200_raw: double (nullable = true)\n",
      " |-- smart_201_normalized: string (nullable = true)\n",
      " |-- smart_201_raw: string (nullable = true)\n",
      " |-- smart_220_normalized: double (nullable = true)\n",
      " |-- smart_220_raw: double (nullable = true)\n",
      " |-- smart_222_normalized: double (nullable = true)\n",
      " |-- smart_222_raw: double (nullable = true)\n",
      " |-- smart_223_normalized: double (nullable = true)\n",
      " |-- smart_223_raw: double (nullable = true)\n",
      " |-- smart_224_normalized: double (nullable = true)\n",
      " |-- smart_224_raw: double (nullable = true)\n",
      " |-- smart_225_normalized: double (nullable = true)\n",
      " |-- smart_225_raw: double (nullable = true)\n",
      " |-- smart_226_normalized: double (nullable = true)\n",
      " |-- smart_226_raw: double (nullable = true)\n",
      " |-- smart_235_normalized: double (nullable = true)\n",
      " |-- smart_235_raw: double (nullable = true)\n",
      " |-- smart_240_normalized: double (nullable = true)\n",
      " |-- smart_240_raw: double (nullable = true)\n",
      " |-- smart_241_normalized: double (nullable = true)\n",
      " |-- smart_241_raw: double (nullable = true)\n",
      " |-- smart_242_normalized: double (nullable = true)\n",
      " |-- smart_242_raw: double (nullable = true)\n",
      " |-- smart_250_normalized: double (nullable = true)\n",
      " |-- smart_250_raw: double (nullable = true)\n",
      " |-- smart_251_normalized: double (nullable = true)\n",
      " |-- smart_251_raw: double (nullable = true)\n",
      " |-- smart_252_normalized: double (nullable = true)\n",
      " |-- smart_252_raw: double (nullable = true)\n",
      " |-- smart_254_normalized: double (nullable = true)\n",
      " |-- smart_254_raw: double (nullable = true)\n",
      " |-- smart_255_normalized: string (nullable = true)\n",
      " |-- smart_255_raw: string (nullable = true)\n",
      "\n"
     ]
    }
   ],
   "source": [
    "mydf.printSchema()"
   ]
  },
  {
   "cell_type": "code",
   "execution_count": 13,
   "metadata": {},
   "outputs": [
    {
     "name": "stdout",
     "output_type": "stream",
     "text": [
      "+----+-------------+-----+--------------+-------+------------------+-----------+------------------+-----------+------------------+-----------+------------------+-----------+------------------+-----------+------------------+-----------+------------------+-----------+------------------+-----------+-------------------+------------+-------------------+------------+-------------------+------------+-------------------+------------+-------------------+------------+-------------------+------------+--------------------+-------------+--------------------+-------------+--------------------+-------------+--------------------+-------------+--------------------+-------------+--------------------+-------------+--------------------+-------------+--------------------+-------------+--------------------+-------------+--------------------+-------------+--------------------+-------------+--------------------+-------------+--------------------+-------------+--------------------+-------------+--------------------+-------------+--------------------+-------------+--------------------+-------------+--------------------+-------------+--------------------+-------------+--------------------+-------------+--------------------+-------------+--------------------+-------------+--------------------+-------------+--------------------+-------------+--------------------+-------------+--------------------+-------------+--------------------+-------------+--------------------+-------------+--------------------+-------------+--------------------+-------------+--------------------+-------------+--------------------+-------------+--------------------+-------------+--------------------+-------------+--------------------+-------------+--------------------+-------------+\n",
      "|date|serial_number|model|capacity_bytes|failure|smart_1_normalized|smart_1_raw|smart_2_normalized|smart_2_raw|smart_3_normalized|smart_3_raw|smart_4_normalized|smart_4_raw|smart_5_normalized|smart_5_raw|smart_7_normalized|smart_7_raw|smart_8_normalized|smart_8_raw|smart_9_normalized|smart_9_raw|smart_10_normalized|smart_10_raw|smart_11_normalized|smart_11_raw|smart_12_normalized|smart_12_raw|smart_13_normalized|smart_13_raw|smart_15_normalized|smart_15_raw|smart_22_normalized|smart_22_raw|smart_177_normalized|smart_177_raw|smart_179_normalized|smart_179_raw|smart_181_normalized|smart_181_raw|smart_182_normalized|smart_182_raw|smart_183_normalized|smart_183_raw|smart_184_normalized|smart_184_raw|smart_187_normalized|smart_187_raw|smart_188_normalized|smart_188_raw|smart_189_normalized|smart_189_raw|smart_190_normalized|smart_190_raw|smart_191_normalized|smart_191_raw|smart_192_normalized|smart_192_raw|smart_193_normalized|smart_193_raw|smart_194_normalized|smart_194_raw|smart_195_normalized|smart_195_raw|smart_196_normalized|smart_196_raw|smart_197_normalized|smart_197_raw|smart_198_normalized|smart_198_raw|smart_199_normalized|smart_199_raw|smart_200_normalized|smart_200_raw|smart_201_normalized|smart_201_raw|smart_220_normalized|smart_220_raw|smart_222_normalized|smart_222_raw|smart_223_normalized|smart_223_raw|smart_224_normalized|smart_224_raw|smart_225_normalized|smart_225_raw|smart_226_normalized|smart_226_raw|smart_235_normalized|smart_235_raw|smart_240_normalized|smart_240_raw|smart_241_normalized|smart_241_raw|smart_242_normalized|smart_242_raw|smart_250_normalized|smart_250_raw|smart_251_normalized|smart_251_raw|smart_252_normalized|smart_252_raw|smart_254_normalized|smart_254_raw|smart_255_normalized|smart_255_raw|\n",
      "+----+-------------+-----+--------------+-------+------------------+-----------+------------------+-----------+------------------+-----------+------------------+-----------+------------------+-----------+------------------+-----------+------------------+-----------+------------------+-----------+-------------------+------------+-------------------+------------+-------------------+------------+-------------------+------------+-------------------+------------+-------------------+------------+--------------------+-------------+--------------------+-------------+--------------------+-------------+--------------------+-------------+--------------------+-------------+--------------------+-------------+--------------------+-------------+--------------------+-------------+--------------------+-------------+--------------------+-------------+--------------------+-------------+--------------------+-------------+--------------------+-------------+--------------------+-------------+--------------------+-------------+--------------------+-------------+--------------------+-------------+--------------------+-------------+--------------------+-------------+--------------------+-------------+--------------------+-------------+--------------------+-------------+--------------------+-------------+--------------------+-------------+--------------------+-------------+--------------------+-------------+--------------------+-------------+--------------------+-------------+--------------------+-------------+--------------------+-------------+--------------------+-------------+--------------------+-------------+--------------------+-------------+--------------------+-------------+--------------------+-------------+--------------------+-------------+\n",
      "|   0|            0|    0|             0|      0|             18169|      18169|          57913164|   57913164|             48236|      48236|             48236|      48236|             48002|      48002|             48236|      48236|          57913164|   57913164|             17935|      17935|              48236|       48236|           75814852|    75814852|              17935|       17935|           76714860|    76714860|           76714860|    76714860|           72795712|    72795712|            76684559|     76684559|            76714626|     76714626|            76714626|     76714626|            76714626|     76714626|            58449885|     58449885|            39934870|     39934870|            19331925|     19331925|            19332159|     19332159|            39934870|     39934870|            19331925|     19331925|            38020146|     38020146|               24703|        24703|              472551|       472551|               18169|        18169|            36237932|     36237932|            57430937|     57430937|               48236|        48236|               48236|        48236|               48002|        48002|            54339285|     54339285|            76714860|     76714860|            75309472|     75309472|            75309472|     75309472|            74572964|     74572964|            75309472|     75309472|            76297079|     76297079|            75309472|     75309472|            76684559|     76684559|            17881258|     17881258|            18987214|     18987214|            18987448|     18987448|            76712473|     76712473|            76712473|     76712473|            76712473|     76712473|            76601389|     76601389|            76714860|     76714860|\n",
      "+----+-------------+-----+--------------+-------+------------------+-----------+------------------+-----------+------------------+-----------+------------------+-----------+------------------+-----------+------------------+-----------+------------------+-----------+------------------+-----------+-------------------+------------+-------------------+------------+-------------------+------------+-------------------+------------+-------------------+------------+-------------------+------------+--------------------+-------------+--------------------+-------------+--------------------+-------------+--------------------+-------------+--------------------+-------------+--------------------+-------------+--------------------+-------------+--------------------+-------------+--------------------+-------------+--------------------+-------------+--------------------+-------------+--------------------+-------------+--------------------+-------------+--------------------+-------------+--------------------+-------------+--------------------+-------------+--------------------+-------------+--------------------+-------------+--------------------+-------------+--------------------+-------------+--------------------+-------------+--------------------+-------------+--------------------+-------------+--------------------+-------------+--------------------+-------------+--------------------+-------------+--------------------+-------------+--------------------+-------------+--------------------+-------------+--------------------+-------------+--------------------+-------------+--------------------+-------------+--------------------+-------------+--------------------+-------------+--------------------+-------------+--------------------+-------------+\n",
      "\n"
     ]
    },
    {
     "data": {
      "text/plain": [
       "NoneType"
      ]
     },
     "execution_count": 13,
     "metadata": {},
     "output_type": "execute_result"
    }
   ],
   "source": [
    "# Count the NA for each columns\n",
    "type(mydf.select(*(sum(col(c).isNull().cast(\"int\")).alias(c) for c in mydf.columns)).show())"
   ]
  },
  {
   "cell_type": "code",
   "execution_count": 14,
   "metadata": {},
   "outputs": [],
   "source": [
    "drop_columns=[\n",
    "    'smart_2_normalized',\n",
    "    'smart_2_raw',\n",
    "    'smart_8_normalized',\n",
    "    'smart_8_raw',\n",
    "    'smart_11_normalized',\n",
    "    'smart_11_raw',\n",
    "    'smart_13_normalized',\n",
    "    'smart_13_raw',\n",
    "    'smart_15_normalized',\n",
    "    'smart_15_raw',\n",
    "    'smart_22_normalized',\n",
    "    'smart_22_raw',\n",
    "    'smart_177_normalized',\n",
    "    'smart_177_raw',\n",
    "    'smart_179_normalized',\n",
    "    'smart_179_raw',\n",
    "    'smart_181_normalized',\n",
    "    'smart_181_raw',\n",
    "    'smart_182_normalized',\n",
    "    'smart_182_raw',\n",
    "    'smart_183_normalized',\n",
    "    'smart_183_raw',\n",
    "    'smart_184_normalized',\n",
    "    'smart_184_raw',\n",
    "    'smart_189_normalized',\n",
    "    'smart_189_raw',\n",
    "    'smart_191_normalized',\n",
    "    'smart_191_raw',\n",
    "    'smart_195_normalized',\n",
    "    'smart_195_raw',\n",
    "    'smart_196_normalized',\n",
    "    'smart_196_raw',\n",
    "    'smart_200_normalized',\n",
    "    'smart_200_raw',\n",
    "    'smart_201_normalized',\n",
    "    'smart_201_raw',\n",
    "    'smart_220_normalized',\n",
    "    'smart_220_raw',\n",
    "    'smart_222_normalized',\n",
    "    'smart_222_raw',\n",
    "    'smart_223_normalized',\n",
    "    'smart_223_raw',\n",
    "    'smart_224_normalized',\n",
    "    'smart_224_raw',\n",
    "    'smart_225_normalized',\n",
    "    'smart_225_raw',\n",
    "    'smart_226_normalized',\n",
    "    'smart_226_raw',\n",
    "    'smart_235_normalized',\n",
    "    'smart_235_raw',\n",
    "    'smart_250_normalized',\n",
    "    'smart_250_raw',\n",
    "    'smart_251_normalized',\n",
    "    'smart_251_raw',\n",
    "    'smart_252_normalized',\n",
    "    'smart_252_raw',\n",
    "    'smart_254_normalized',\n",
    "    'smart_254_raw',   \n",
    "    'smart_255_normalized',\n",
    "    'smart_255_raw'\n",
    "]\n",
    "mydf_new=mydf.drop(*drop_columns)"
   ]
  },
  {
   "cell_type": "code",
   "execution_count": 15,
   "metadata": {},
   "outputs": [
    {
     "data": {
      "text/plain": [
       "['date',\n",
       " 'serial_number',\n",
       " 'model',\n",
       " 'capacity_bytes',\n",
       " 'failure',\n",
       " 'smart_1_normalized',\n",
       " 'smart_1_raw',\n",
       " 'smart_3_normalized',\n",
       " 'smart_3_raw',\n",
       " 'smart_4_normalized',\n",
       " 'smart_4_raw',\n",
       " 'smart_5_normalized',\n",
       " 'smart_5_raw',\n",
       " 'smart_7_normalized',\n",
       " 'smart_7_raw',\n",
       " 'smart_9_normalized',\n",
       " 'smart_9_raw',\n",
       " 'smart_10_normalized',\n",
       " 'smart_10_raw',\n",
       " 'smart_12_normalized',\n",
       " 'smart_12_raw',\n",
       " 'smart_187_normalized',\n",
       " 'smart_187_raw',\n",
       " 'smart_188_normalized',\n",
       " 'smart_188_raw',\n",
       " 'smart_190_normalized',\n",
       " 'smart_190_raw',\n",
       " 'smart_192_normalized',\n",
       " 'smart_192_raw',\n",
       " 'smart_193_normalized',\n",
       " 'smart_193_raw',\n",
       " 'smart_194_normalized',\n",
       " 'smart_194_raw',\n",
       " 'smart_197_normalized',\n",
       " 'smart_197_raw',\n",
       " 'smart_198_normalized',\n",
       " 'smart_198_raw',\n",
       " 'smart_199_normalized',\n",
       " 'smart_199_raw',\n",
       " 'smart_240_normalized',\n",
       " 'smart_240_raw',\n",
       " 'smart_241_normalized',\n",
       " 'smart_241_raw',\n",
       " 'smart_242_normalized',\n",
       " 'smart_242_raw']"
      ]
     },
     "execution_count": 15,
     "metadata": {},
     "output_type": "execute_result"
    }
   ],
   "source": [
    "mydf_new.columns"
   ]
  },
  {
   "cell_type": "code",
   "execution_count": 16,
   "metadata": {},
   "outputs": [
    {
     "data": {
      "text/plain": [
       "76714860"
      ]
     },
     "execution_count": 16,
     "metadata": {},
     "output_type": "execute_result"
    }
   ],
   "source": [
    "mydf_new.count()"
   ]
  },
  {
   "cell_type": "code",
   "execution_count": 17,
   "metadata": {},
   "outputs": [
    {
     "name": "stdout",
     "output_type": "stream",
     "text": [
      "root\n",
      " |-- date: timestamp (nullable = true)\n",
      " |-- serial_number: string (nullable = true)\n",
      " |-- model: string (nullable = true)\n",
      " |-- capacity_bytes: long (nullable = true)\n",
      " |-- failure: integer (nullable = true)\n",
      " |-- smart_1_normalized: double (nullable = true)\n",
      " |-- smart_1_raw: double (nullable = true)\n",
      " |-- smart_2_normalized: double (nullable = true)\n",
      " |-- smart_2_raw: double (nullable = true)\n",
      " |-- smart_3_normalized: double (nullable = true)\n",
      " |-- smart_3_raw: double (nullable = true)\n",
      " |-- smart_4_normalized: double (nullable = true)\n",
      " |-- smart_4_raw: double (nullable = true)\n",
      " |-- smart_5_normalized: double (nullable = true)\n",
      " |-- smart_5_raw: double (nullable = true)\n",
      " |-- smart_7_normalized: double (nullable = true)\n",
      " |-- smart_7_raw: double (nullable = true)\n",
      " |-- smart_8_normalized: double (nullable = true)\n",
      " |-- smart_8_raw: double (nullable = true)\n",
      " |-- smart_9_normalized: double (nullable = true)\n",
      " |-- smart_9_raw: double (nullable = true)\n",
      " |-- smart_10_normalized: double (nullable = true)\n",
      " |-- smart_10_raw: double (nullable = true)\n",
      " |-- smart_11_normalized: double (nullable = true)\n",
      " |-- smart_11_raw: double (nullable = true)\n",
      " |-- smart_12_normalized: double (nullable = true)\n",
      " |-- smart_12_raw: double (nullable = true)\n",
      " |-- smart_13_normalized: string (nullable = true)\n",
      " |-- smart_13_raw: string (nullable = true)\n",
      " |-- smart_15_normalized: string (nullable = true)\n",
      " |-- smart_15_raw: string (nullable = true)\n",
      " |-- smart_22_normalized: double (nullable = true)\n",
      " |-- smart_22_raw: double (nullable = true)\n",
      " |-- smart_177_normalized: double (nullable = true)\n",
      " |-- smart_177_raw: double (nullable = true)\n",
      " |-- smart_179_normalized: double (nullable = true)\n",
      " |-- smart_179_raw: double (nullable = true)\n",
      " |-- smart_181_normalized: double (nullable = true)\n",
      " |-- smart_181_raw: double (nullable = true)\n",
      " |-- smart_182_normalized: double (nullable = true)\n",
      " |-- smart_182_raw: double (nullable = true)\n",
      " |-- smart_183_normalized: double (nullable = true)\n",
      " |-- smart_183_raw: double (nullable = true)\n",
      " |-- smart_184_normalized: double (nullable = true)\n",
      " |-- smart_184_raw: double (nullable = true)\n",
      " |-- smart_187_normalized: double (nullable = true)\n",
      " |-- smart_187_raw: double (nullable = true)\n",
      " |-- smart_188_normalized: double (nullable = true)\n",
      " |-- smart_188_raw: double (nullable = true)\n",
      " |-- smart_189_normalized: double (nullable = true)\n",
      " |-- smart_189_raw: double (nullable = true)\n",
      " |-- smart_190_normalized: double (nullable = true)\n",
      " |-- smart_190_raw: double (nullable = true)\n",
      " |-- smart_191_normalized: double (nullable = true)\n",
      " |-- smart_191_raw: double (nullable = true)\n",
      " |-- smart_192_normalized: double (nullable = true)\n",
      " |-- smart_192_raw: double (nullable = true)\n",
      " |-- smart_193_normalized: double (nullable = true)\n",
      " |-- smart_193_raw: double (nullable = true)\n",
      " |-- smart_194_normalized: double (nullable = true)\n",
      " |-- smart_194_raw: double (nullable = true)\n",
      " |-- smart_195_normalized: double (nullable = true)\n",
      " |-- smart_195_raw: double (nullable = true)\n",
      " |-- smart_196_normalized: double (nullable = true)\n",
      " |-- smart_196_raw: double (nullable = true)\n",
      " |-- smart_197_normalized: double (nullable = true)\n",
      " |-- smart_197_raw: double (nullable = true)\n",
      " |-- smart_198_normalized: double (nullable = true)\n",
      " |-- smart_198_raw: double (nullable = true)\n",
      " |-- smart_199_normalized: double (nullable = true)\n",
      " |-- smart_199_raw: double (nullable = true)\n",
      " |-- smart_200_normalized: double (nullable = true)\n",
      " |-- smart_200_raw: double (nullable = true)\n",
      " |-- smart_201_normalized: string (nullable = true)\n",
      " |-- smart_201_raw: string (nullable = true)\n",
      " |-- smart_220_normalized: double (nullable = true)\n",
      " |-- smart_220_raw: double (nullable = true)\n",
      " |-- smart_222_normalized: double (nullable = true)\n",
      " |-- smart_222_raw: double (nullable = true)\n",
      " |-- smart_223_normalized: double (nullable = true)\n",
      " |-- smart_223_raw: double (nullable = true)\n",
      " |-- smart_224_normalized: double (nullable = true)\n",
      " |-- smart_224_raw: double (nullable = true)\n",
      " |-- smart_225_normalized: double (nullable = true)\n",
      " |-- smart_225_raw: double (nullable = true)\n",
      " |-- smart_226_normalized: double (nullable = true)\n",
      " |-- smart_226_raw: double (nullable = true)\n",
      " |-- smart_235_normalized: double (nullable = true)\n",
      " |-- smart_235_raw: double (nullable = true)\n",
      " |-- smart_240_normalized: double (nullable = true)\n",
      " |-- smart_240_raw: double (nullable = true)\n",
      " |-- smart_241_normalized: double (nullable = true)\n",
      " |-- smart_241_raw: double (nullable = true)\n",
      " |-- smart_242_normalized: double (nullable = true)\n",
      " |-- smart_242_raw: double (nullable = true)\n",
      " |-- smart_250_normalized: double (nullable = true)\n",
      " |-- smart_250_raw: double (nullable = true)\n",
      " |-- smart_251_normalized: double (nullable = true)\n",
      " |-- smart_251_raw: double (nullable = true)\n",
      " |-- smart_252_normalized: double (nullable = true)\n",
      " |-- smart_252_raw: double (nullable = true)\n",
      " |-- smart_254_normalized: double (nullable = true)\n",
      " |-- smart_254_raw: double (nullable = true)\n",
      " |-- smart_255_normalized: string (nullable = true)\n",
      " |-- smart_255_raw: string (nullable = true)\n",
      "\n"
     ]
    }
   ],
   "source": [
    "mydf.printSchema()"
   ]
  },
  {
   "cell_type": "markdown",
   "metadata": {},
   "source": [
    "## Model"
   ]
  },
  {
   "cell_type": "code",
   "execution_count": 22,
   "metadata": {},
   "outputs": [],
   "source": [
    "from pyspark.ml.feature import OneHotEncoderEstimator, StringIndexer, IndexToString, VectorAssembler, Binarizer\n",
    "from pyspark.ml.classification import LogisticRegression\n",
    "from pyspark.ml.evaluation import MulticlassClassificationEvaluator,BinaryClassificationEvaluator\n",
    "from pyspark.ml import Pipeline, Model"
   ]
  },
  {
   "cell_type": "code",
   "execution_count": 144,
   "metadata": {},
   "outputs": [],
   "source": [
    "mydf = spark.read.parquet('s3://bigdata-group3/mergedata/hardrive.parquet/*.parquet')"
   ]
  },
  {
   "cell_type": "code",
   "execution_count": 145,
   "metadata": {},
   "outputs": [],
   "source": [
    "drop_columns=[\n",
    "    'smart_2_normalized',\n",
    "    'smart_2_raw',\n",
    "    'smart_8_normalized',\n",
    "    'smart_8_raw',\n",
    "    'smart_11_normalized',\n",
    "    'smart_11_raw',\n",
    "    'smart_13_normalized',\n",
    "    'smart_13_raw',\n",
    "    'smart_15_normalized',\n",
    "    'smart_15_raw',\n",
    "    'smart_22_normalized',\n",
    "    'smart_22_raw',\n",
    "    'smart_177_normalized',\n",
    "    'smart_177_raw',\n",
    "    'smart_179_normalized',\n",
    "    'smart_179_raw',\n",
    "    'smart_181_normalized',\n",
    "    'smart_181_raw',\n",
    "    'smart_182_normalized',\n",
    "    'smart_182_raw',\n",
    "    'smart_183_normalized',\n",
    "    'smart_183_raw',\n",
    "    'smart_184_normalized',\n",
    "    'smart_184_raw',\n",
    "    'smart_189_normalized',\n",
    "    'smart_189_raw',\n",
    "    'smart_191_normalized',\n",
    "    'smart_191_raw',\n",
    "    'smart_195_normalized',\n",
    "    'smart_195_raw',\n",
    "    'smart_196_normalized',\n",
    "    'smart_196_raw',\n",
    "    'smart_200_normalized',\n",
    "    'smart_200_raw',\n",
    "    'smart_201_normalized',\n",
    "    'smart_201_raw',\n",
    "    'smart_220_normalized',\n",
    "    'smart_220_raw',\n",
    "    'smart_222_normalized',\n",
    "    'smart_222_raw',\n",
    "    'smart_223_normalized',\n",
    "    'smart_223_raw',\n",
    "    'smart_224_normalized',\n",
    "    'smart_224_raw',\n",
    "    'smart_225_normalized',\n",
    "    'smart_225_raw',\n",
    "    'smart_226_normalized',\n",
    "    'smart_226_raw',\n",
    "    'smart_235_normalized',\n",
    "    'smart_235_raw',\n",
    "    'smart_250_normalized',\n",
    "    'smart_250_raw',\n",
    "    'smart_251_normalized',\n",
    "    'smart_251_raw',\n",
    "    'smart_252_normalized',\n",
    "    'smart_252_raw',\n",
    "    'smart_254_normalized',\n",
    "    'smart_254_raw',   \n",
    "    'smart_255_normalized',\n",
    "    'smart_255_raw'\n",
    "]\n",
    "mydf_new=mydf.drop(*drop_columns)"
   ]
  },
  {
   "cell_type": "code",
   "execution_count": 146,
   "metadata": {},
   "outputs": [
    {
     "data": {
      "text/plain": [
       "['date',\n",
       " 'serial_number',\n",
       " 'model',\n",
       " 'capacity_bytes',\n",
       " 'failure',\n",
       " 'smart_1_normalized',\n",
       " 'smart_1_raw',\n",
       " 'smart_3_normalized',\n",
       " 'smart_3_raw',\n",
       " 'smart_4_normalized',\n",
       " 'smart_4_raw',\n",
       " 'smart_5_normalized',\n",
       " 'smart_5_raw',\n",
       " 'smart_7_normalized',\n",
       " 'smart_7_raw',\n",
       " 'smart_9_normalized',\n",
       " 'smart_9_raw',\n",
       " 'smart_10_normalized',\n",
       " 'smart_10_raw',\n",
       " 'smart_12_normalized',\n",
       " 'smart_12_raw',\n",
       " 'smart_187_normalized',\n",
       " 'smart_187_raw',\n",
       " 'smart_188_normalized',\n",
       " 'smart_188_raw',\n",
       " 'smart_190_normalized',\n",
       " 'smart_190_raw',\n",
       " 'smart_192_normalized',\n",
       " 'smart_192_raw',\n",
       " 'smart_193_normalized',\n",
       " 'smart_193_raw',\n",
       " 'smart_194_normalized',\n",
       " 'smart_194_raw',\n",
       " 'smart_197_normalized',\n",
       " 'smart_197_raw',\n",
       " 'smart_198_normalized',\n",
       " 'smart_198_raw',\n",
       " 'smart_199_normalized',\n",
       " 'smart_199_raw',\n",
       " 'smart_240_normalized',\n",
       " 'smart_240_raw',\n",
       " 'smart_241_normalized',\n",
       " 'smart_241_raw',\n",
       " 'smart_242_normalized',\n",
       " 'smart_242_raw']"
      ]
     },
     "execution_count": 146,
     "metadata": {},
     "output_type": "execute_result"
    }
   ],
   "source": [
    "mydf_new.columns"
   ]
  },
  {
   "cell_type": "code",
   "execution_count": 61,
   "metadata": {},
   "outputs": [
    {
     "data": {
      "text/plain": [
       "76714860"
      ]
     },
     "execution_count": 61,
     "metadata": {},
     "output_type": "execute_result"
    }
   ],
   "source": [
    "#mydf_new.count()"
   ]
  },
  {
   "cell_type": "code",
   "execution_count": 147,
   "metadata": {},
   "outputs": [],
   "source": [
    "mydf_new=mydf_new.na.drop()"
   ]
  },
  {
   "cell_type": "code",
   "execution_count": 148,
   "metadata": {},
   "outputs": [],
   "source": [
    "#mydf_new.show(10)"
   ]
  },
  {
   "cell_type": "code",
   "execution_count": 124,
   "metadata": {},
   "outputs": [
    {
     "data": {
      "text/plain": [
       "57364274"
      ]
     },
     "execution_count": 124,
     "metadata": {},
     "output_type": "execute_result"
    }
   ],
   "source": [
    "#mydf_new.count()"
   ]
  },
  {
   "cell_type": "code",
   "execution_count": 125,
   "metadata": {},
   "outputs": [],
   "source": [
    "colname=mydf_new.columns"
   ]
  },
  {
   "cell_type": "code",
   "execution_count": 126,
   "metadata": {},
   "outputs": [
    {
     "data": {
      "text/plain": [
       "['date',\n",
       " 'serial_number',\n",
       " 'model',\n",
       " 'capacity_bytes',\n",
       " 'failure',\n",
       " 'smart_1_normalized',\n",
       " 'smart_1_raw',\n",
       " 'smart_3_normalized',\n",
       " 'smart_3_raw',\n",
       " 'smart_4_normalized',\n",
       " 'smart_4_raw',\n",
       " 'smart_5_normalized',\n",
       " 'smart_5_raw',\n",
       " 'smart_7_normalized',\n",
       " 'smart_7_raw',\n",
       " 'smart_9_normalized',\n",
       " 'smart_9_raw',\n",
       " 'smart_10_normalized',\n",
       " 'smart_10_raw',\n",
       " 'smart_12_normalized',\n",
       " 'smart_12_raw',\n",
       " 'smart_187_normalized',\n",
       " 'smart_187_raw',\n",
       " 'smart_188_normalized',\n",
       " 'smart_188_raw',\n",
       " 'smart_190_normalized',\n",
       " 'smart_190_raw',\n",
       " 'smart_192_normalized',\n",
       " 'smart_192_raw',\n",
       " 'smart_193_normalized',\n",
       " 'smart_193_raw',\n",
       " 'smart_194_normalized',\n",
       " 'smart_194_raw',\n",
       " 'smart_197_normalized',\n",
       " 'smart_197_raw',\n",
       " 'smart_198_normalized',\n",
       " 'smart_198_raw',\n",
       " 'smart_199_normalized',\n",
       " 'smart_199_raw',\n",
       " 'smart_240_normalized',\n",
       " 'smart_240_raw',\n",
       " 'smart_241_normalized',\n",
       " 'smart_241_raw',\n",
       " 'smart_242_normalized',\n",
       " 'smart_242_raw']"
      ]
     },
     "execution_count": 126,
     "metadata": {},
     "output_type": "execute_result"
    }
   ],
   "source": [
    "colname"
   ]
  },
  {
   "cell_type": "code",
   "execution_count": 127,
   "metadata": {},
   "outputs": [],
   "source": [
    "colname.remove('date')"
   ]
  },
  {
   "cell_type": "code",
   "execution_count": 128,
   "metadata": {},
   "outputs": [],
   "source": [
    "colname.remove('failure')"
   ]
  },
  {
   "cell_type": "code",
   "execution_count": 129,
   "metadata": {},
   "outputs": [],
   "source": [
    "colname.remove('model')"
   ]
  },
  {
   "cell_type": "code",
   "execution_count": 130,
   "metadata": {},
   "outputs": [],
   "source": [
    "colname.remove('serial_number')"
   ]
  },
  {
   "cell_type": "code",
   "execution_count": 131,
   "metadata": {},
   "outputs": [
    {
     "name": "stdout",
     "output_type": "stream",
     "text": [
      "root\n",
      " |-- date: timestamp (nullable = true)\n",
      " |-- serial_number: string (nullable = true)\n",
      " |-- model: string (nullable = true)\n",
      " |-- capacity_bytes: long (nullable = true)\n",
      " |-- failure: integer (nullable = true)\n",
      " |-- smart_1_normalized: double (nullable = true)\n",
      " |-- smart_1_raw: double (nullable = true)\n",
      " |-- smart_3_normalized: double (nullable = true)\n",
      " |-- smart_3_raw: double (nullable = true)\n",
      " |-- smart_4_normalized: double (nullable = true)\n",
      " |-- smart_4_raw: double (nullable = true)\n",
      " |-- smart_5_normalized: double (nullable = true)\n",
      " |-- smart_5_raw: double (nullable = true)\n",
      " |-- smart_7_normalized: double (nullable = true)\n",
      " |-- smart_7_raw: double (nullable = true)\n",
      " |-- smart_9_normalized: double (nullable = true)\n",
      " |-- smart_9_raw: double (nullable = true)\n",
      " |-- smart_10_normalized: double (nullable = true)\n",
      " |-- smart_10_raw: double (nullable = true)\n",
      " |-- smart_12_normalized: double (nullable = true)\n",
      " |-- smart_12_raw: double (nullable = true)\n",
      " |-- smart_187_normalized: double (nullable = true)\n",
      " |-- smart_187_raw: double (nullable = true)\n",
      " |-- smart_188_normalized: double (nullable = true)\n",
      " |-- smart_188_raw: double (nullable = true)\n",
      " |-- smart_190_normalized: double (nullable = true)\n",
      " |-- smart_190_raw: double (nullable = true)\n",
      " |-- smart_192_normalized: double (nullable = true)\n",
      " |-- smart_192_raw: double (nullable = true)\n",
      " |-- smart_193_normalized: double (nullable = true)\n",
      " |-- smart_193_raw: double (nullable = true)\n",
      " |-- smart_194_normalized: double (nullable = true)\n",
      " |-- smart_194_raw: double (nullable = true)\n",
      " |-- smart_197_normalized: double (nullable = true)\n",
      " |-- smart_197_raw: double (nullable = true)\n",
      " |-- smart_198_normalized: double (nullable = true)\n",
      " |-- smart_198_raw: double (nullable = true)\n",
      " |-- smart_199_normalized: double (nullable = true)\n",
      " |-- smart_199_raw: double (nullable = true)\n",
      " |-- smart_240_normalized: double (nullable = true)\n",
      " |-- smart_240_raw: double (nullable = true)\n",
      " |-- smart_241_normalized: double (nullable = true)\n",
      " |-- smart_241_raw: double (nullable = true)\n",
      " |-- smart_242_normalized: double (nullable = true)\n",
      " |-- smart_242_raw: double (nullable = true)\n",
      "\n"
     ]
    }
   ],
   "source": [
    "mydf_new.printSchema()"
   ]
  },
  {
   "cell_type": "code",
   "execution_count": 132,
   "metadata": {},
   "outputs": [],
   "source": [
    "modelcol = StringIndexer(inputCol=\"model\", outputCol=\"model_ix\").setHandleInvalid(\"skip\")\n",
    "serial_number = StringIndexer(inputCol=\"serial_number\", outputCol=\"serial_number_ix\").setHandleInvalid(\"skip\")"
   ]
  },
  {
   "cell_type": "code",
   "execution_count": 133,
   "metadata": {},
   "outputs": [],
   "source": [
    "colname.insert(0,\"model_ix\")   "
   ]
  },
  {
   "cell_type": "code",
   "execution_count": 134,
   "metadata": {},
   "outputs": [],
   "source": [
    "colname.insert(0,\"serial_number_ix\") "
   ]
  },
  {
   "cell_type": "code",
   "execution_count": 135,
   "metadata": {},
   "outputs": [
    {
     "data": {
      "text/plain": [
       "['serial_number_ix',\n",
       " 'model_ix',\n",
       " 'capacity_bytes',\n",
       " 'smart_1_normalized',\n",
       " 'smart_1_raw',\n",
       " 'smart_3_normalized',\n",
       " 'smart_3_raw',\n",
       " 'smart_4_normalized',\n",
       " 'smart_4_raw',\n",
       " 'smart_5_normalized',\n",
       " 'smart_5_raw',\n",
       " 'smart_7_normalized',\n",
       " 'smart_7_raw',\n",
       " 'smart_9_normalized',\n",
       " 'smart_9_raw',\n",
       " 'smart_10_normalized',\n",
       " 'smart_10_raw',\n",
       " 'smart_12_normalized',\n",
       " 'smart_12_raw',\n",
       " 'smart_187_normalized',\n",
       " 'smart_187_raw',\n",
       " 'smart_188_normalized',\n",
       " 'smart_188_raw',\n",
       " 'smart_190_normalized',\n",
       " 'smart_190_raw',\n",
       " 'smart_192_normalized',\n",
       " 'smart_192_raw',\n",
       " 'smart_193_normalized',\n",
       " 'smart_193_raw',\n",
       " 'smart_194_normalized',\n",
       " 'smart_194_raw',\n",
       " 'smart_197_normalized',\n",
       " 'smart_197_raw',\n",
       " 'smart_198_normalized',\n",
       " 'smart_198_raw',\n",
       " 'smart_199_normalized',\n",
       " 'smart_199_raw',\n",
       " 'smart_240_normalized',\n",
       " 'smart_240_raw',\n",
       " 'smart_241_normalized',\n",
       " 'smart_241_raw',\n",
       " 'smart_242_normalized',\n",
       " 'smart_242_raw']"
      ]
     },
     "execution_count": 135,
     "metadata": {},
     "output_type": "execute_result"
    }
   ],
   "source": [
    "colname"
   ]
  },
  {
   "cell_type": "code",
   "execution_count": 136,
   "metadata": {},
   "outputs": [],
   "source": [
    "vectorAssembler_features = VectorAssembler(\n",
    "    inputCols=colname, \n",
    "    outputCol=\"features\")"
   ]
  },
  {
   "cell_type": "code",
   "execution_count": 137,
   "metadata": {},
   "outputs": [],
   "source": [
    "#help_binarizer = Binarizer(threshold=0, inputCol=\"failure\", outputCol=\"label\") \n",
    "#mydf_new = help_binarizer.transform(mydf_new)"
   ]
  },
  {
   "cell_type": "code",
   "execution_count": 138,
   "metadata": {},
   "outputs": [
    {
     "name": "stdout",
     "output_type": "stream",
     "text": [
      "Number of training records: 45892843\n",
      "Number of testing records : 10324465\n",
      "Number of prediction records : 1146966\n"
     ]
    }
   ],
   "source": [
    "splitted_data = mydf_new.randomSplit([0.8, 0.18, 0.02], 24)\n",
    "train_data = splitted_data[0]\n",
    "test_data = splitted_data[1]\n",
    "predict_data = splitted_data[2]\n",
    "\n",
    "print(\"Number of training records: \" + str(train_data.count()))\n",
    "print(\"Number of testing records : \" + str(test_data.count()))\n",
    "print(\"Number of prediction records : \" + str(predict_data.count()))"
   ]
  },
  {
   "cell_type": "code",
   "execution_count": 142,
   "metadata": {},
   "outputs": [
    {
     "name": "stdout",
     "output_type": "stream",
     "text": [
      "root\n",
      " |-- date: timestamp (nullable = true)\n",
      " |-- serial_number: string (nullable = true)\n",
      " |-- model: string (nullable = true)\n",
      " |-- capacity_bytes: long (nullable = true)\n",
      " |-- failure: integer (nullable = true)\n",
      " |-- smart_1_normalized: double (nullable = true)\n",
      " |-- smart_1_raw: double (nullable = true)\n",
      " |-- smart_3_normalized: double (nullable = true)\n",
      " |-- smart_3_raw: double (nullable = true)\n",
      " |-- smart_4_normalized: double (nullable = true)\n",
      " |-- smart_4_raw: double (nullable = true)\n",
      " |-- smart_5_normalized: double (nullable = true)\n",
      " |-- smart_5_raw: double (nullable = true)\n",
      " |-- smart_7_normalized: double (nullable = true)\n",
      " |-- smart_7_raw: double (nullable = true)\n",
      " |-- smart_9_normalized: double (nullable = true)\n",
      " |-- smart_9_raw: double (nullable = true)\n",
      " |-- smart_10_normalized: double (nullable = true)\n",
      " |-- smart_10_raw: double (nullable = true)\n",
      " |-- smart_12_normalized: double (nullable = true)\n",
      " |-- smart_12_raw: double (nullable = true)\n",
      " |-- smart_187_normalized: double (nullable = true)\n",
      " |-- smart_187_raw: double (nullable = true)\n",
      " |-- smart_188_normalized: double (nullable = true)\n",
      " |-- smart_188_raw: double (nullable = true)\n",
      " |-- smart_190_normalized: double (nullable = true)\n",
      " |-- smart_190_raw: double (nullable = true)\n",
      " |-- smart_192_normalized: double (nullable = true)\n",
      " |-- smart_192_raw: double (nullable = true)\n",
      " |-- smart_193_normalized: double (nullable = true)\n",
      " |-- smart_193_raw: double (nullable = true)\n",
      " |-- smart_194_normalized: double (nullable = true)\n",
      " |-- smart_194_raw: double (nullable = true)\n",
      " |-- smart_197_normalized: double (nullable = true)\n",
      " |-- smart_197_raw: double (nullable = true)\n",
      " |-- smart_198_normalized: double (nullable = true)\n",
      " |-- smart_198_raw: double (nullable = true)\n",
      " |-- smart_199_normalized: double (nullable = true)\n",
      " |-- smart_199_raw: double (nullable = true)\n",
      " |-- smart_240_normalized: double (nullable = true)\n",
      " |-- smart_240_raw: double (nullable = true)\n",
      " |-- smart_241_normalized: double (nullable = true)\n",
      " |-- smart_241_raw: double (nullable = true)\n",
      " |-- smart_242_normalized: double (nullable = true)\n",
      " |-- smart_242_raw: double (nullable = true)\n",
      "\n"
     ]
    }
   ],
   "source": [
    "train_data.printSchema()"
   ]
  },
  {
   "cell_type": "code",
   "execution_count": 83,
   "metadata": {},
   "outputs": [],
   "source": [
    "#from pyspark.ml.classification import RandomForestClassifier\n",
    "#rf = RandomForestClassifier(labelCol=\"label\", featuresCol=\"features\", numTrees=10)"
   ]
  },
  {
   "cell_type": "code",
   "execution_count": 116,
   "metadata": {},
   "outputs": [],
   "source": [
    "import time"
   ]
  },
  {
   "cell_type": "markdown",
   "metadata": {},
   "source": [
    "## Logistic"
   ]
  },
  {
   "cell_type": "code",
   "execution_count": 84,
   "metadata": {},
   "outputs": [],
   "source": [
    "log = LogisticRegression(labelCol=\"failure\", featuresCol=\"features\",maxIter=10, regParam=0.01)"
   ]
  },
  {
   "cell_type": "code",
   "execution_count": 85,
   "metadata": {},
   "outputs": [],
   "source": [
    "pipeline_log = Pipeline(stages=[modelcol, serial_number,\n",
    "                               vectorAssembler_features, \n",
    "                               log])"
   ]
  },
  {
   "cell_type": "code",
   "execution_count": 86,
   "metadata": {},
   "outputs": [],
   "source": [
    "model_log = pipeline_log.fit(train_data)"
   ]
  },
  {
   "cell_type": "code",
   "execution_count": 96,
   "metadata": {},
   "outputs": [
    {
     "data": {
      "text/plain": [
       "10324461"
      ]
     },
     "execution_count": 96,
     "metadata": {},
     "output_type": "execute_result"
    }
   ],
   "source": [
    "predictions_log.count()"
   ]
  },
  {
   "cell_type": "code",
   "execution_count": 113,
   "metadata": {},
   "outputs": [
    {
     "name": "stdout",
     "output_type": "stream",
     "text": [
      "Logistic Regression Accuracy = 0.955091\n"
     ]
    }
   ],
   "source": [
    "predictions_log = model_log.transform(test_data)\n",
    "evaluatorLog = BinaryClassificationEvaluator(rawPredictionCol=\"rawPrediction\").setLabelCol(\"failure\")\n",
    "accuracy_log = evaluatorLog.evaluate(predictions_log)\n",
    "print(\"Logistic Regression Accuracy = %g\" % accuracy_log)"
   ]
  },
  {
   "cell_type": "markdown",
   "metadata": {},
   "source": [
    "## Tree"
   ]
  },
  {
   "cell_type": "code",
   "execution_count": 153,
   "metadata": {},
   "outputs": [],
   "source": [
    "colname=mydf_new.columns"
   ]
  },
  {
   "cell_type": "code",
   "execution_count": 154,
   "metadata": {},
   "outputs": [],
   "source": [
    "colname.remove('date')"
   ]
  },
  {
   "cell_type": "code",
   "execution_count": 157,
   "metadata": {},
   "outputs": [],
   "source": [
    "colname.remove('failure')"
   ]
  },
  {
   "cell_type": "code",
   "execution_count": 158,
   "metadata": {},
   "outputs": [],
   "source": [
    "colname.remove('model')"
   ]
  },
  {
   "cell_type": "code",
   "execution_count": 159,
   "metadata": {},
   "outputs": [],
   "source": [
    "colname.remove('serial_number')"
   ]
  },
  {
   "cell_type": "code",
   "execution_count": 160,
   "metadata": {},
   "outputs": [],
   "source": [
    "vectorAssembler_features = VectorAssembler(\n",
    "    inputCols=colname, \n",
    "    outputCol=\"features\")"
   ]
  },
  {
   "cell_type": "code",
   "execution_count": 161,
   "metadata": {},
   "outputs": [
    {
     "name": "stdout",
     "output_type": "stream",
     "text": [
      "Number of training records: 45892843\n",
      "Number of testing records : 10324465\n",
      "Number of prediction records : 1146966\n"
     ]
    }
   ],
   "source": [
    "splitted_data = mydf_new.randomSplit([0.8, 0.18, 0.02], 24)\n",
    "train_data = splitted_data[0]\n",
    "test_data = splitted_data[1]\n",
    "predict_data = splitted_data[2]\n",
    "\n",
    "print(\"Number of training records: \" + str(train_data.count()))\n",
    "print(\"Number of testing records : \" + str(test_data.count()))\n",
    "print(\"Number of prediction records : \" + str(predict_data.count()))"
   ]
  },
  {
   "cell_type": "code",
   "execution_count": 162,
   "metadata": {},
   "outputs": [],
   "source": [
    "from pyspark.ml.classification import RandomForestClassifier\n",
    "rf = RandomForestClassifier(labelCol=\"failure\", featuresCol=\"features\", numTrees=10)"
   ]
  },
  {
   "cell_type": "code",
   "execution_count": 163,
   "metadata": {},
   "outputs": [],
   "source": [
    "pipeline_rf= Pipeline(stages=[modelcol, serial_number,\n",
    "                               vectorAssembler_features, \n",
    "                               rf])"
   ]
  },
  {
   "cell_type": "code",
   "execution_count": 164,
   "metadata": {},
   "outputs": [
    {
     "name": "stdout",
     "output_type": "stream",
     "text": [
      "CPU times: user 96.3 ms, sys: 15.3 ms, total: 112 ms\n",
      "Wall time: 12min 45s\n"
     ]
    }
   ],
   "source": [
    "%%time\n",
    "model_rf = pipeline_rf.fit(train_data)"
   ]
  },
  {
   "cell_type": "code",
   "execution_count": 166,
   "metadata": {},
   "outputs": [
    {
     "name": "stdout",
     "output_type": "stream",
     "text": [
      "Random Forest Accuracy = 0.823169\n"
     ]
    }
   ],
   "source": [
    "predictions_rf = model_rf.transform(test_data)\n",
    "evaluatorRf = BinaryClassificationEvaluator(rawPredictionCol=\"rawPrediction\").setLabelCol(\"failure\")\n",
    "accuracy_rf = evaluatorRf.evaluate(predictions_rf)\n",
    "\n",
    "print(\"Random Forest Accuracy = %g\" % accuracy_rf)"
   ]
  },
  {
   "cell_type": "markdown",
   "metadata": {},
   "source": [
    "## GBModel"
   ]
  },
  {
   "cell_type": "code",
   "execution_count": 183,
   "metadata": {},
   "outputs": [],
   "source": [
    "colname=mydf_new.columns"
   ]
  },
  {
   "cell_type": "code",
   "execution_count": 184,
   "metadata": {},
   "outputs": [],
   "source": [
    "colname.remove('date')"
   ]
  },
  {
   "cell_type": "code",
   "execution_count": 185,
   "metadata": {},
   "outputs": [],
   "source": [
    "colname.remove('failure')"
   ]
  },
  {
   "cell_type": "code",
   "execution_count": 186,
   "metadata": {},
   "outputs": [],
   "source": [
    "colname.remove('model')"
   ]
  },
  {
   "cell_type": "code",
   "execution_count": 187,
   "metadata": {},
   "outputs": [],
   "source": [
    "colname.remove('serial_number')"
   ]
  },
  {
   "cell_type": "code",
   "execution_count": 188,
   "metadata": {},
   "outputs": [],
   "source": [
    "vectorAssembler_features = VectorAssembler(\n",
    "    inputCols=colname, \n",
    "    outputCol=\"features\")"
   ]
  },
  {
   "cell_type": "code",
   "execution_count": 189,
   "metadata": {},
   "outputs": [
    {
     "name": "stdout",
     "output_type": "stream",
     "text": [
      "Number of training records: 45892843\n",
      "Number of testing records : 10324465\n",
      "Number of prediction records : 1146966\n"
     ]
    }
   ],
   "source": [
    "splitted_data = mydf_new.randomSplit([0.8, 0.18, 0.02], 24)\n",
    "train_data = splitted_data[0]\n",
    "test_data = splitted_data[1]\n",
    "predict_data = splitted_data[2]\n",
    "\n",
    "print(\"Number of training records: \" + str(train_data.count()))\n",
    "print(\"Number of testing records : \" + str(test_data.count()))\n",
    "print(\"Number of prediction records : \" + str(predict_data.count()))"
   ]
  },
  {
   "cell_type": "code",
   "execution_count": 190,
   "metadata": {},
   "outputs": [],
   "source": [
    "from pyspark.ml.classification import GBTClassifier\n",
    "gbt = GBTClassifier(maxIter=5, maxDepth=2, featuresCol=\"features\",labelCol=\"failure\", seed=1)"
   ]
  },
  {
   "cell_type": "code",
   "execution_count": 191,
   "metadata": {},
   "outputs": [],
   "source": [
    "pipeline_gbt= Pipeline(stages=[vectorAssembler_features, \n",
    "                               gbt])"
   ]
  },
  {
   "cell_type": "code",
   "execution_count": 192,
   "metadata": {},
   "outputs": [],
   "source": [
    "model_gbt = pipeline_gbt.fit(train_data)"
   ]
  },
  {
   "cell_type": "code",
   "execution_count": 193,
   "metadata": {},
   "outputs": [
    {
     "name": "stdout",
     "output_type": "stream",
     "text": [
      "Gradient Boosting Tree Accuracy = 0.74321\n"
     ]
    }
   ],
   "source": [
    "predictions_gbt = model_gbt.transform(test_data)\n",
    "evaluatorGbt = BinaryClassificationEvaluator(rawPredictionCol=\"rawPrediction\").setLabelCol(\"failure\")\n",
    "accuracy_gbt = evaluatorGbt.evaluate(predictions_gbt)\n",
    "\n",
    "print(\"Gradient Boosting Tree Accuracy = %g\" % accuracy_gbt)"
   ]
  },
  {
   "cell_type": "code",
   "execution_count": 194,
   "metadata": {},
   "outputs": [],
   "source": [
    "spark.stop()"
   ]
  },
  {
   "cell_type": "code",
   "execution_count": null,
   "metadata": {},
   "outputs": [],
   "source": []
  }
 ],
 "metadata": {
  "kernelspec": {
   "display_name": "Python 3",
   "language": "python",
   "name": "python3"
  },
  "language_info": {
   "codemirror_mode": {
    "name": "ipython",
    "version": 3
   },
   "file_extension": ".py",
   "mimetype": "text/x-python",
   "name": "python",
   "nbconvert_exporter": "python",
   "pygments_lexer": "ipython3",
   "version": "3.7.5"
  }
 },
 "nbformat": 4,
 "nbformat_minor": 4
}
